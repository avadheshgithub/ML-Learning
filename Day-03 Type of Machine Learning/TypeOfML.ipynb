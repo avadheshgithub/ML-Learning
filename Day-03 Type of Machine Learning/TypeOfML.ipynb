{
 "cells": [
  {
   "cell_type": "markdown",
   "id": "404b186b-839b-4325-b3a4-3dad51cea66c",
   "metadata": {},
   "source": [
    "## Type Of Machine Learning"
   ]
  },
  {
   "cell_type": "code",
   "execution_count": null,
   "id": "538552be-a204-4df3-b5e8-bf5b7ca022e8",
   "metadata": {},
   "outputs": [],
   "source": [
    "## Type of ML\n",
    "\n",
    "    1. Supervised - Labeled Data (Target class is also with feature) && Predict on future Data\n",
    "\n",
    "            1. Regression - its output/target would be Continious Value\n",
    "\n",
    "            2. Classification - its output/target class \"True\"/\"False\" -Catogory\n"
   ]
  },
  {
   "cell_type": "code",
   "execution_count": null,
   "id": "d6cd3643-c0a6-4e15-9024-79c5a94b9c6c",
   "metadata": {},
   "outputs": [],
   "source": [
    "    2. Unsupervised  - no labled Data \n",
    "\n",
    "            1. Clustering - deividing into groups\n",
    "\n",
    "            2. Dimentionality Reduction - features (input comlumn) reduce\n",
    "\n",
    "            3. anomoly Detection - detecting outlier/deffects\n",
    "                \n",
    "            4. Association Rule learning - AI simulates human intelligence to perform tasks and make decisions."
   ]
  },
  {
   "cell_type": "code",
   "execution_count": null,
   "id": "2dfd9c27-5cd3-44bf-a3a6-b8e6d698caad",
   "metadata": {},
   "outputs": [],
   "source": [
    "    3. Semisupervised - supervised + usupervised\n",
    "\n",
    "        - level on some data && remain data it would be automatically\n",
    "        - Google photoes (once you told once && face automactically level on other photos)\n"
   ]
  },
  {
   "cell_type": "code",
   "execution_count": null,
   "id": "f140572c-b087-4468-9b7b-dee3ff86cf48",
   "metadata": {},
   "outputs": [],
   "source": [
    "    4. ReinforceMent learning\n",
    "\n",
    "        - it learn by its own in Enviroment\n",
    "        - agent in given Enviroment && learn\n",
    "        - reward && punish (two things)\n",
    "\n",
    "    ## Key Concepts of Reinforcement Learning\n",
    "\n",
    "        1. Agent: The learner or decision-maker.\n",
    "        2. Environment: Everything the agent interacts with.\n",
    "        3. State: A specific situation in which the agent finds itself.\n",
    "        4. Action: All possible moves the agent can make.\n",
    "        5. Reward: Feedback from the environment based on the action taken.\n",
    "        "
   ]
  }
 ],
 "metadata": {
  "kernelspec": {
   "display_name": "Python 3 (ipykernel)",
   "language": "python",
   "name": "python3"
  },
  "language_info": {
   "codemirror_mode": {
    "name": "ipython",
    "version": 3
   },
   "file_extension": ".py",
   "mimetype": "text/x-python",
   "name": "python",
   "nbconvert_exporter": "python",
   "pygments_lexer": "ipython3",
   "version": "3.13.2"
  }
 },
 "nbformat": 4,
 "nbformat_minor": 5
}
