{
 "cells": [
  {
   "cell_type": "markdown",
   "id": "f8db31ac-6197-43c1-adf9-2e382a511da0",
   "metadata": {},
   "source": [
    "### Type of Machine Learning Technique 01"
   ]
  },
  {
   "cell_type": "code",
   "execution_count": null,
   "id": "c6840427-7231-4bc3-9f73-47464151881e",
   "metadata": {},
   "outputs": [],
   "source": [
    "1. Bacth/ Offline ML -\n",
    "\n",
    "    - Take entire data && train data in your system offline and put it on sevrer\n",
    "    - it dones not learn automatically\n",
    "    - time to time retrain we will have to on new data && test and put it on server\n",
    "    - retrainb/updation time - (per Week/month)\n",
    "\n",
    "\n",
    "    ## Disadvantage\n",
    "\n",
    "    - Lots of data\n",
    "    - hardware Limitaion\n",
    "    - availibility\n",
    "\n",
    "\n",
    "Defination - Batch learning, also termed offline learning, is that type of learning where \n",
    "the model undergoes a training process from the entire batch of data.\n",
    "Normally, it involves feeding of what is referred to as batch data, "
   ]
  }
 ],
 "metadata": {
  "kernelspec": {
   "display_name": "Python 3 (ipykernel)",
   "language": "python",
   "name": "python3"
  },
  "language_info": {
   "codemirror_mode": {
    "name": "ipython",
    "version": 3
   },
   "file_extension": ".py",
   "mimetype": "text/x-python",
   "name": "python",
   "nbconvert_exporter": "python",
   "pygments_lexer": "ipython3",
   "version": "3.13.2"
  }
 },
 "nbformat": 4,
 "nbformat_minor": 5
}
