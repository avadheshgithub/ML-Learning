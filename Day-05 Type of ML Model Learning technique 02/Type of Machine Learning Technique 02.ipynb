{
 "cells": [
  {
   "cell_type": "markdown",
   "id": "afea708c-d60d-47dd-ae15-848ac57d5243",
   "metadata": {},
   "source": [
    "### Type of Machine Learning Technique 02"
   ]
  },
  {
   "cell_type": "code",
   "execution_count": null,
   "id": "8f304316-dda5-40cc-8a57-d612478423e5",
   "metadata": {},
   "outputs": [],
   "source": [
    "2. Online ML - Real time ML is training automaticlly and train the model into sevrer.\n",
    "\n",
    "    - new data (prediction && learn)\n",
    "    - dynamically performence improve\n",
    "    - incremental learning\n",
    "\n",
    "\n",
    "## when to use\n",
    "\n",
    "    - where the concept is continiouly changing(youtube algo)\n",
    "    - Cost Effective\n",
    "    - Faster Solution\n",
    "\n",
    "## Implementation\n",
    "\n",
    "    Ex - SGDRRegeression (algorithm)\n",
    "    - River && vowpal wabbit (Library)\n",
    "\n",
    "\n",
    "## DisAdvantage\n",
    "\n",
    "    - Tricky to use - unstable\n",
    "    - Risky - if now new data biased then your system would be biased.\n",
    "\n",
    "    "
   ]
  },
  {
   "cell_type": "code",
   "execution_count": null,
   "id": "8993d7a1-6864-4d7a-bf92-51af071cf506",
   "metadata": {},
   "outputs": [],
   "source": [
    "## Learning Rate -\n",
    "\n",
    "    - at a speed on whcih your model is learning. it shouldn't be neither so fast nor so slow.\n",
    "    - it is important\n",
    "\n",
    "\n",
    "## Out of Core learning -\n",
    "    - if data is huge -- convert into small small Dataset && send into model, eveluate and put on server.\n"
   ]
  }
 ],
 "metadata": {
  "kernelspec": {
   "display_name": "Python 3 (ipykernel)",
   "language": "python",
   "name": "python3"
  },
  "language_info": {
   "codemirror_mode": {
    "name": "ipython",
    "version": 3
   },
   "file_extension": ".py",
   "mimetype": "text/x-python",
   "name": "python",
   "nbconvert_exporter": "python",
   "pygments_lexer": "ipython3",
   "version": "3.13.2"
  }
 },
 "nbformat": 4,
 "nbformat_minor": 5
}
