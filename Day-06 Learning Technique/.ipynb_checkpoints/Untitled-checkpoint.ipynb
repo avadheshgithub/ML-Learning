{
 "cells": [
  {
   "cell_type": "markdown",
   "id": "6b27d99e-4168-4089-81c0-ccdb1baf90b2",
   "metadata": {},
   "source": [
    "## Learning Techniques"
   ]
  },
  {
   "cell_type": "code",
   "execution_count": null,
   "id": "7cb6598c-caf7-4034-8eeb-389226dd37fb",
   "metadata": {},
   "outputs": [],
   "source": [
    "1. Intance / conventional / lazy Based ML - it memorizing data (Not learning && training)\n",
    "\n",
    "        - based on similarity Matching\n",
    "        - Ex --> clustering (KNN)"
   ]
  },
  {
   "cell_type": "code",
   "execution_count": null,
   "id": "d97e6188-ea48-4335-ad8f-3dc6e749fd31",
   "metadata": {},
   "outputs": [],
   "source": [
    "2. Model Based ML - it generalize (underlying Principles extract)\n",
    "\n",
    "        - it learn the behaviour (by training && learning)\n",
    "        - EX - logistic Function / linear regression"
   ]
  }
 ],
 "metadata": {
  "kernelspec": {
   "display_name": "Python 3 (ipykernel)",
   "language": "python",
   "name": "python3"
  },
  "language_info": {
   "codemirror_mode": {
    "name": "ipython",
    "version": 3
   },
   "file_extension": ".py",
   "mimetype": "text/x-python",
   "name": "python",
   "nbconvert_exporter": "python",
   "pygments_lexer": "ipython3",
   "version": "3.13.2"
  }
 },
 "nbformat": 4,
 "nbformat_minor": 5
}
