{
 "cells": [
  {
   "cell_type": "markdown",
   "id": "23896c11-f27d-4604-aa10-1f413719f74c",
   "metadata": {},
   "source": [
    "## machine Leaning Challenges"
   ]
  },
  {
   "cell_type": "code",
   "execution_count": null,
   "id": "c8c73b97-6696-4b86-a240-5b028d2cb196",
   "metadata": {},
   "outputs": [],
   "source": [
    "## ML Challenges\n",
    "\n",
    "    1. Data Collection && format -  (API / Web Scrapping)\n",
    "\n",
    "    2. Insufficient Labelled Data -\n",
    "\n",
    "    3. Poor Qulaity Data -\n",
    "\n",
    "    4. Non Representative Data - like Balanced Data\n",
    "\n",
    "    5. irrevelant Feature - \n",
    "\n",
    "    6.overFitting && UnderFitting - poor performance on test data and underfitting --> similar \n",
    "\n",
    "    7. SoftWare Integration -\n",
    "\n",
    "    8. offline Learning / deployement - \n",
    "\n",
    "    9. cost involved - \n",
    "\n",
    "    "
   ]
  }
 ],
 "metadata": {
  "kernelspec": {
   "display_name": "Python 3 (ipykernel)",
   "language": "python",
   "name": "python3"
  },
  "language_info": {
   "codemirror_mode": {
    "name": "ipython",
    "version": 3
   },
   "file_extension": ".py",
   "mimetype": "text/x-python",
   "name": "python",
   "nbconvert_exporter": "python",
   "pygments_lexer": "ipython3",
   "version": "3.13.2"
  }
 },
 "nbformat": 4,
 "nbformat_minor": 5
}
