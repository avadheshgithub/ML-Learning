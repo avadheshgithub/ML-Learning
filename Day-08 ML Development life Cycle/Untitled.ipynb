{
 "cells": [
  {
   "cell_type": "markdown",
   "id": "4563d95e-d2ea-4480-ad50-5c019d9c7895",
   "metadata": {},
   "source": [
    "### ML Development life Cycle (SDLC)"
   ]
  },
  {
   "cell_type": "code",
   "execution_count": null,
   "id": "25194c32-e4fd-49ee-a588-b684b226d9d6",
   "metadata": {},
   "outputs": [],
   "source": [
    "## a Common Guildelines , all will have to follow for all developer\n",
    "\n",
    "1. Frame the Problem -\n",
    "\n",
    "2. Gathering Data - Gather and formatting\n",
    "\n",
    "3. Data preprocessing - duplicates/missing values / outlier / scalling / feature\n",
    "\n",
    "4. Explaratory Data Analysis (EDA) - visulization / corelation / balanced Data\n",
    "\n",
    "5. Feature Engineering and Selection - feature extraction && reudction / selection\n",
    "\n",
    "6. Model training Evaluation - Confusion matrix\n",
    "\n",
    "7. Model Developemnet - develop & integrate\n",
    "\n",
    "8. Testing - A/B testing\n",
    "\n",
    "9. Optimize - training Frequency"
   ]
  }
 ],
 "metadata": {
  "kernelspec": {
   "display_name": "Python 3 (ipykernel)",
   "language": "python",
   "name": "python3"
  },
  "language_info": {
   "codemirror_mode": {
    "name": "ipython",
    "version": 3
   },
   "file_extension": ".py",
   "mimetype": "text/x-python",
   "name": "python",
   "nbconvert_exporter": "python",
   "pygments_lexer": "ipython3",
   "version": "3.13.2"
  }
 },
 "nbformat": 4,
 "nbformat_minor": 5
}
