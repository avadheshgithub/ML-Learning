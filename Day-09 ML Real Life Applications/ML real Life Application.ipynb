{
 "cells": [
  {
   "cell_type": "markdown",
   "id": "c03e506c-4953-43e3-b374-95bc1ecb2872",
   "metadata": {},
   "source": [
    "### ML real Life Application"
   ]
  },
  {
   "cell_type": "code",
   "execution_count": null,
   "id": "85ed190d-36cc-4994-8cbb-c1f99db6a895",
   "metadata": {},
   "outputs": [],
   "source": [
    "\n",
    "1. Retail - Amazone/Big Bazaar (Buying Pattern && association rule mining)\n",
    "\n",
    "2. Banking && Finance (credit card or loan Defualter)\n",
    "\n",
    "3. Transportation - OLA (demand Forecasting)\n",
    "\n",
    "4. Manufacturing - Tesla\n",
    "\n",
    "5. Social Media plateform - Twitter (setiment analysis)\n",
    "\n"
   ]
  }
 ],
 "metadata": {
  "kernelspec": {
   "display_name": "Python 3 (ipykernel)",
   "language": "python",
   "name": "python3"
  },
  "language_info": {
   "codemirror_mode": {
    "name": "ipython",
    "version": 3
   },
   "file_extension": ".py",
   "mimetype": "text/x-python",
   "name": "python",
   "nbconvert_exporter": "python",
   "pygments_lexer": "ipython3",
   "version": "3.13.2"
  }
 },
 "nbformat": 4,
 "nbformat_minor": 5
}
