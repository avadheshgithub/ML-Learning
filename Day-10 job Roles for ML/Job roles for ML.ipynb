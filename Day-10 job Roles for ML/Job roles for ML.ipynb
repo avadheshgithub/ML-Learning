{
 "cells": [
  {
   "cell_type": "markdown",
   "id": "9cf2c132-86f6-4f3f-a3ec-d1c89617571e",
   "metadata": {},
   "source": [
    "### Job Roles for ML"
   ]
  },
  {
   "cell_type": "code",
   "execution_count": null,
   "id": "fbff26f2-97a3-4c51-bd3d-47b5e80523f5",
   "metadata": {},
   "outputs": [],
   "source": [
    "1. ML Engineer -\n",
    "\n",
    "    - deploying ML model\n",
    "    - scaling & optimizing the model\n",
    "    - Monitoring and maintinace of Deployed Model .\n",
    "\n",
    "## Skills\n",
    "\n",
    "    - mathmatics\n",
    "    - prograaming Language\n",
    "    - distributes system\n",
    "    - ml models\n",
    "    - "
   ]
  },
  {
   "cell_type": "code",
   "execution_count": null,
   "id": "3d006992-e52d-4c95-b214-f8702bf5179e",
   "metadata": {},
   "outputs": [],
   "source": [
    "2. Data Engineer - \n",
    "    \n",
    "    - Data prepare/collect && give (OLTP--->OLAP)\n",
    "    - Databse ----> DataWareHouse\n",
    "    - Create pipelines (API)\n",
    "    - handle DataBases && data Warehouses\n",
    "\n",
    "## Skills\n",
    "\n",
    "    - Data Structrue\n",
    "    - programming lanugae\n",
    "    - Advance DBMS (sql/nonSQL)\n",
    "    - Big Data tools (spark, haddop)\n",
    "    - cloud plateform\n",
    "    - Data Pipelining"
   ]
  },
  {
   "cell_type": "code",
   "execution_count": null,
   "id": "279dabde-05e0-4469-8bb7-64007f863e7b",
   "metadata": {},
   "outputs": [],
   "source": [
    "3. Data Analyst -\n",
    "\n",
    "    - summarize the data (Ananlysis)\n",
    "    - cleaning and organize\n",
    "    - analyze the data\n",
    "    - optimize Data Collection\n",
    "\n",
    "Skills\n",
    "    - statical programming\n",
    "    - Programmig Language\n",
    "    - Data mining\n",
    "    - Data visulization\n",
    "    - SQL\n",
    "    - Communication"
   ]
  },
  {
   "cell_type": "code",
   "execution_count": null,
   "id": "5f60ff23-db86-4da1-a17d-18ac88031600",
   "metadata": {},
   "outputs": [],
   "source": [
    "4. Data Scientist -\n",
    "\n",
    "    - full stack of Data science\n",
    "    - undertand data and use it for future (Predective)\n",
    "    - statics / math\n",
    "    - analytics\n"
   ]
  }
 ],
 "metadata": {
  "kernelspec": {
   "display_name": "Python 3 (ipykernel)",
   "language": "python",
   "name": "python3"
  },
  "language_info": {
   "codemirror_mode": {
    "name": "ipython",
    "version": 3
   },
   "file_extension": ".py",
   "mimetype": "text/x-python",
   "name": "python",
   "nbconvert_exporter": "python",
   "pygments_lexer": "ipython3",
   "version": "3.13.2"
  }
 },
 "nbformat": 4,
 "nbformat_minor": 5
}
