{
 "cells": [
  {
   "cell_type": "markdown",
   "id": "5d1a1181-8ac0-45c0-97fb-f38ef0f13d7d",
   "metadata": {},
   "source": [
    "### Tensor"
   ]
  },
  {
   "cell_type": "code",
   "execution_count": null,
   "id": "db1ea48e-f467-4e7b-83be-a48c9ceaa779",
   "metadata": {},
   "outputs": [],
   "source": [
    "\n",
    "- Tensor is data structure / container for numbers mostly.\n",
    "- EX - vector/matrix"
   ]
  },
  {
   "cell_type": "code",
   "execution_count": 5,
   "id": "625b6022-3fa4-4ef8-afa7-7d00b3461bd5",
   "metadata": {},
   "outputs": [
    {
     "data": {
      "text/plain": [
       "0"
      ]
     },
     "execution_count": 5,
     "metadata": {},
     "output_type": "execute_result"
    }
   ],
   "source": [
    "## 0D tensor ---> Scalor\n",
    "\n",
    "import numpy as np\n",
    "a = np.array(4)\n",
    "a\n",
    "a.ndim"
   ]
  },
  {
   "cell_type": "code",
   "execution_count": 6,
   "id": "73647904-e219-458d-9aa3-6cc86a77dc0c",
   "metadata": {},
   "outputs": [
    {
     "data": {
      "text/plain": [
       "1"
      ]
     },
     "execution_count": 6,
     "metadata": {},
     "output_type": "execute_result"
    }
   ],
   "source": [
    "## 1D tensor ---> vector/array\n",
    "\n",
    "arr = np.array([1,2,3,4]);\n",
    "arr.ndim"
   ]
  },
  {
   "cell_type": "code",
   "execution_count": 8,
   "id": "637c39e1-5bbf-4304-b0f7-4470861275ba",
   "metadata": {},
   "outputs": [
    {
     "data": {
      "text/plain": [
       "2"
      ]
     },
     "execution_count": 8,
     "metadata": {},
     "output_type": "execute_result"
    }
   ],
   "source": [
    "## 2D tensor ---> Matrix (collection of 2- 1D Tensor)\n",
    "\n",
    "mat = np.array([[1,2,4],[5,6,7],[8,9,10]]);\n",
    "mat.ndim\n"
   ]
  },
  {
   "cell_type": "code",
   "execution_count": null,
   "id": "4f5f5471-6b0a-49bc-997b-d792042d7cd9",
   "metadata": {},
   "outputs": [],
   "source": [
    "## 3D Tensor ----> collectio of 3 matrix\n",
    "\n",
    "Ex - NLP\n"
   ]
  },
  {
   "cell_type": "code",
   "execution_count": null,
   "id": "2a905be6-0d7c-478a-95c8-c035bdaa67b2",
   "metadata": {},
   "outputs": [],
   "source": [
    "## 4D Tensor ----> \n",
    "\n",
    "Ex - Image vision"
   ]
  },
  {
   "cell_type": "code",
   "execution_count": null,
   "id": "ba86120e-da37-4dbf-b698-32b04a04a4dc",
   "metadata": {},
   "outputs": [],
   "source": [
    "## 5D Tensor ----> \n",
    "\n",
    "Ex - video"
   ]
  },
  {
   "cell_type": "code",
   "execution_count": null,
   "id": "e01114d1-6572-4708-beda-cbed399733b6",
   "metadata": {},
   "outputs": [],
   "source": [
    "Num of aixs == rank == num of dim"
   ]
  }
 ],
 "metadata": {
  "kernelspec": {
   "display_name": "Python 3 (ipykernel)",
   "language": "python",
   "name": "python3"
  },
  "language_info": {
   "codemirror_mode": {
    "name": "ipython",
    "version": 3
   },
   "file_extension": ".py",
   "mimetype": "text/x-python",
   "name": "python",
   "nbconvert_exporter": "python",
   "pygments_lexer": "ipython3",
   "version": "3.13.2"
  }
 },
 "nbformat": 4,
 "nbformat_minor": 5
}
