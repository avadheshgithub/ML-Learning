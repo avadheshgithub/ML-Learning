{
 "cells": [
  {
   "cell_type": "code",
   "execution_count": 3,
   "id": "a9ceb9f7-31d0-421e-812b-d28cc0bf9c76",
   "metadata": {},
   "outputs": [],
   "source": [
    "# pandas\n",
    "\n",
    "import pandas as pd\n"
   ]
  },
  {
   "cell_type": "code",
   "execution_count": 5,
   "id": "b4b123b5-043c-4d04-bddd-6b062f08d9e4",
   "metadata": {},
   "outputs": [],
   "source": [
    "df = pd.read_csv('heart.csv')"
   ]
  },
  {
   "cell_type": "code",
   "execution_count": null,
   "id": "d36df1dd-5471-4f58-b55c-ed7c1fe5f858",
   "metadata": {},
   "outputs": [],
   "source": [
    "## Virtual Environtment\n",
    "\n"
   ]
  },
  {
   "cell_type": "code",
   "execution_count": null,
   "id": "e93011de-3443-452e-ae5c-4850fc9cbc40",
   "metadata": {},
   "outputs": [],
   "source": [
    "## Using tool : Data Science\n",
    "\n",
    "    1. Kaggle (Not GPU)\n",
    "    2. Google colab (GPU available)\n",
    "    3. Jupyter Notebook\n",
    "    4. Jupiter Lab"
   ]
  },
  {
   "cell_type": "code",
   "execution_count": null,
   "id": "3e0b35fc-81e6-4ec0-8c7e-c6fc459705d0",
   "metadata": {},
   "outputs": [],
   "source": [
    "## Note - kaggle data without download --> import all data into colab\n",
    "\n",
    "Youtube --> Campus X (Machine Learning Playlist) --> lec 12 ---> time Afrter 30 minute video"
   ]
  }
 ],
 "metadata": {
  "kernelspec": {
   "display_name": "Python 3 (ipykernel)",
   "language": "python",
   "name": "python3"
  },
  "language_info": {
   "codemirror_mode": {
    "name": "ipython",
    "version": 3
   },
   "file_extension": ".py",
   "mimetype": "text/x-python",
   "name": "python",
   "nbconvert_exporter": "python",
   "pygments_lexer": "ipython3",
   "version": "3.13.2"
  }
 },
 "nbformat": 4,
 "nbformat_minor": 5
}
