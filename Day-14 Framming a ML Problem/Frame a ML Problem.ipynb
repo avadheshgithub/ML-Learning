{
 "cells": [
  {
   "cell_type": "markdown",
   "id": "8e12d3ed-8c1b-4385-a633-65ea5a01bb76",
   "metadata": {},
   "source": [
    "### Framming a ML problems"
   ]
  },
  {
   "cell_type": "code",
   "execution_count": 1,
   "id": "c11b1f03-ffc6-453b-866f-18a5efebaf46",
   "metadata": {},
   "outputs": [],
   "source": [
    "# 1. Bussiness Problem into ML Problems\n",
    "\n",
    "\n",
    "  #  Let Example of Netflix (Bussines Problem)\n",
    "\n",
    "Churn Rate -> num of customers that leave the netflix plateform called Churn Rate\n",
    "\n",
    "# Target - churn Rate Reduce\n"
   ]
  },
  {
   "cell_type": "code",
   "execution_count": null,
   "id": "e3f9bcc8-39f8-4318-860a-69c4d56eb4a0",
   "metadata": {},
   "outputs": [],
   "source": [
    "# 2. type of Problem\n",
    "\n",
    "which people are leaving and which will not leave (Classification Problem)\n",
    "Assume and find like a person what percent chance to leave netflix  (Regression Problem)\n"
   ]
  },
  {
   "cell_type": "code",
   "execution_count": null,
   "id": "3ad25191-ef58-4cf6-a074-b07f6f4b95cd",
   "metadata": {},
   "outputs": [],
   "source": [
    "## 3. Current SOlution\n",
    "\n",
    "churn Rate prediction model (what factors they included)"
   ]
  },
  {
   "cell_type": "code",
   "execution_count": null,
   "id": "dd1fbbd2-64ce-479b-8990-8699d2b26c0f",
   "metadata": {},
   "outputs": [],
   "source": [
    "## 4. Getting Data\n",
    "\n",
    "1. Watch Time\n",
    "2. search but not find\n",
    "3. content left in the middle\n",
    "4. Click on Recommentadtion (order of Recommentdation)"
   ]
  },
  {
   "cell_type": "code",
   "execution_count": null,
   "id": "bcaf97e3-5dc3-4aaf-ac76-f929de8622d2",
   "metadata": {},
   "outputs": [],
   "source": [
    "## 5. Metrics to measure\n",
    "\n",
    "you are predicting that these people will leave plateform and same they are leaving or oth\n",
    "peoples are leaving"
   ]
  },
  {
   "cell_type": "code",
   "execution_count": null,
   "id": "4ded4cbf-5b48-48ae-85c4-46c9b70fcf22",
   "metadata": {},
   "outputs": [],
   "source": [
    "## 6. Online vs Batch\n",
    "\n",
    "Leaning model what should be  1. Online   or  2. Batch"
   ]
  },
  {
   "cell_type": "code",
   "execution_count": null,
   "id": "a3675f5f-9d99-46e3-80a7-ef080852bcd1",
   "metadata": {},
   "outputs": [],
   "source": [
    "## 7. Check Asssumptions\n",
    "\n",
    "what you asssumed that will work in all regions model and so other. "
   ]
  }
 ],
 "metadata": {
  "kernelspec": {
   "display_name": "Python 3 (ipykernel)",
   "language": "python",
   "name": "python3"
  },
  "language_info": {
   "codemirror_mode": {
    "name": "ipython",
    "version": 3
   },
   "file_extension": ".py",
   "mimetype": "text/x-python",
   "name": "python",
   "nbconvert_exporter": "python",
   "pygments_lexer": "ipython3",
   "version": "3.13.2"
  }
 },
 "nbformat": 4,
 "nbformat_minor": 5
}
