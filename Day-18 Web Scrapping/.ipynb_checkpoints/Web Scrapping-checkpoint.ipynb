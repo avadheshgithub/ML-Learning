{
 "cells": [
  {
   "cell_type": "markdown",
   "id": "ebc73ded-6455-4826-9862-ab8881e914a4",
   "metadata": {},
   "source": [
    "### Web Scrapping"
   ]
  },
  {
   "cell_type": "code",
   "execution_count": null,
   "id": "350457c9-ec4f-463f-93ff-c9baabf33270",
   "metadata": {},
   "outputs": [],
   "source": [
    "# Web Scrapping --> Data Exctrating from websites\n",
    "\n",
    "    #api - json format\n",
    "    \n",
    "    "
   ]
  },
  {
   "cell_type": "code",
   "execution_count": null,
   "id": "77dce5d9-12c1-440d-ba9f-d0d70fe9d172",
   "metadata": {},
   "outputs": [],
   "source": [
    "import pandas as pd\n",
    "import requests\n",
    "from bs4 import BeautifulSoup\n",
    "import numpy as np"
   ]
  },
  {
   "cell_type": "code",
   "execution_count": null,
   "id": "ece949f0-dcea-4ea6-95b9-5c331c2da5d3",
   "metadata": {},
   "outputs": [],
   "source": [
    "headers={'User-Agent':'Mozilla/5.0 (Windows NT 6.3; Win 64 ; x64) Apple WeKit /537.36(KHTML , like Gecko) Chrome/80.0.3987.162 Safari/537.36'}\n",
    "webpage = requests.get('https://www.ambitionbox.com/list-of-companies?campaign=desktop_nav',headers=headers).text"
   ]
  },
  {
   "cell_type": "code",
   "execution_count": null,
   "id": "de6b326e-94ab-40d8-876d-66f873ba0620",
   "metadata": {},
   "outputs": [],
   "source": [
    "## traversing on that url page\n",
    "soup=BeautifulSoup(webpage,'lxml')"
   ]
  },
  {
   "cell_type": "code",
   "execution_count": null,
   "id": "fed48673-f58c-4a41-9902-a43a5ea00429",
   "metadata": {},
   "outputs": [],
   "source": [
    "print(soup.prettify()) ## Formatting the html"
   ]
  },
  {
   "cell_type": "code",
   "execution_count": null,
   "id": "3b1d0f54-1a34-498f-a982-cb9351b30c91",
   "metadata": {},
   "outputs": [],
   "source": [
    "## h1 header of url page\n",
    "\n",
    "soup.find_all('h1')[0].text"
   ]
  },
  {
   "cell_type": "code",
   "execution_count": null,
   "id": "4f784120-d208-4cae-9d11-8b2358e39296",
   "metadata": {},
   "outputs": [],
   "source": [
    "## find all h2 heade on that page\n",
    "\n",
    "for i in soup.find_all('h2'):\n",
    "  print(i.text.strip())  ## strip to remove spaces"
   ]
  },
  {
   "cell_type": "code",
   "execution_count": null,
   "id": "f0cd8f74-5d38-4832-9853-d1334cb81bd1",
   "metadata": {},
   "outputs": [],
   "source": [
    "## all p tags on that page\n",
    "\n",
    "for i in soup.find_all('p'):\n",
    "  print(i.text.strip())"
   ]
  },
  {
   "cell_type": "code",
   "execution_count": null,
   "id": "4a39a278-12e5-4ea3-8381-6d0bcaa26b8c",
   "metadata": {},
   "outputs": [],
   "source": [
    "## TO FIND OUT THE RATINGS\n",
    "\n",
    "len(soup.find_all('p',class_='rating'))"
   ]
  },
  {
   "cell_type": "code",
   "execution_count": null,
   "id": "cdb484cd-54a8-4ccc-aa9c-6fbeedf1b34d",
   "metadata": {},
   "outputs": [],
   "source": [
    "## TO FIND OUT THE NUMBER OF REVIEWS\n",
    "\n",
    "len(soup.find_all('a' , class_='review-count'))"
   ]
  },
  {
   "cell_type": "code",
   "execution_count": null,
   "id": "23610494-67b4-4939-93c7-327da3f2b4fc",
   "metadata": {},
   "outputs": [],
   "source": [
    "## CONSIDERING THE WHOLE CONTAINER\n",
    "\n",
    "company=soup.find_all('div',class_='company-content-wrapper')"
   ]
  },
  {
   "cell_type": "code",
   "execution_count": null,
   "id": "2573de17-1af2-4961-beaf-fe8cf57b6ee9",
   "metadata": {},
   "outputs": [],
   "source": [
    "len(company)"
   ]
  },
  {
   "cell_type": "code",
   "execution_count": null,
   "id": "48707d68-ee80-42c7-a223-2340700af77c",
   "metadata": {},
   "outputs": [],
   "source": [
    "name=[]\n",
    "rating=[]\n",
    "reviews=[]\n",
    "ctype=[]\n",
    "hq=[]\n",
    "how_old=[]\n",
    "no_of_employee=[]\n",
    "\n",
    "for i in company:\n",
    "\n",
    "  name.append(i.find('h2').text.strip())\n",
    "  rating.append(i.find('p',class_='rating').text.strip())\n",
    "  reviews.append(i.find('a' , class_='review-count').text.strip())\n",
    "  ctype.append(i.find_all('p',class_='infoEntity')[0].text.strip())\n",
    "  hq.append(i.find_all('p',class_='infoEntity')[1].text.strip())\n",
    "  how_old.append(i.find_all('p',class_='infoEntity')[2].text.strip())\n",
    "  no_of_employee.append(i.find_all('p',class_='infoEntity')[3].text.strip())\n",
    "\n",
    "df=pd.DataFrame({'name':name,\n",
    "   'rating':rating,\n",
    "   'reviews':reviews,\n",
    "   'company_type':ctype,\n",
    "   'Head_Quarters':hq,\n",
    "   'Company_Age':how_old,\n",
    "   'No_of_Employee':no_of_employee,\n",
    "   })\n",
    "  "
   ]
  },
  {
   "cell_type": "code",
   "execution_count": null,
   "id": "0b991a59-005a-4393-90cc-7fc7227c7f0d",
   "metadata": {},
   "outputs": [],
   "source": [
    "name"
   ]
  },
  {
   "cell_type": "code",
   "execution_count": null,
   "id": "17c545e2-c667-43bc-84c5-e66e1214eb85",
   "metadata": {},
   "outputs": [],
   "source": [
    "rating"
   ]
  },
  {
   "cell_type": "code",
   "execution_count": null,
   "id": "eddc43e7-7cc2-429d-9216-7eacb7090e57",
   "metadata": {},
   "outputs": [],
   "source": [
    "reviews"
   ]
  },
  {
   "cell_type": "code",
   "execution_count": null,
   "id": "82dce35a-27e5-4a19-82c9-633c5d3faf5e",
   "metadata": {},
   "outputs": [],
   "source": [
    "ctype"
   ]
  },
  {
   "cell_type": "code",
   "execution_count": null,
   "id": "067a20aa-14fb-468e-abe1-0aefc4d35d32",
   "metadata": {},
   "outputs": [],
   "source": [
    "hq"
   ]
  },
  {
   "cell_type": "code",
   "execution_count": null,
   "id": "828fee39-6a53-4373-bf4f-d07a49689c3a",
   "metadata": {},
   "outputs": [],
   "source": [
    "how_old"
   ]
  },
  {
   "cell_type": "code",
   "execution_count": null,
   "id": "98b8f67a-fc39-4643-a4df-b707f3bd5a6e",
   "metadata": {},
   "outputs": [],
   "source": [
    "no_of_employee"
   ]
  },
  {
   "cell_type": "code",
   "execution_count": null,
   "id": "79d0def2-c6a7-4844-8a66-240a758f394c",
   "metadata": {},
   "outputs": [],
   "source": [
    "df.shape"
   ]
  },
  {
   "cell_type": "markdown",
   "id": "9121f729-a8dd-45df-98c6-d6b966d70b63",
   "metadata": {},
   "source": [
    "### creating dataframe for all the pages"
   ]
  },
  {
   "cell_type": "code",
   "execution_count": null,
   "id": "25ceb115-042c-467d-9c2b-fc2a8ef39aa4",
   "metadata": {},
   "outputs": [],
   "source": [
    "\n",
    "final=pd.DataFrame()\n",
    "for j in range(1,1001):\n",
    "  webpage=requests.get('https://www.ambitionbox.com/list-of-companies?page={}'.format(j)).text\n",
    "  soup=BeautifulSoup(webpage,'lxml')\n",
    "  company=soup.find_all('div',class_='company-content-wrapper')\n",
    "  name=[]\n",
    "  rating=[]\n",
    "  reviews=[]\n",
    "  ctype=[]\n",
    "  hq=[]\n",
    "  how_old=[]\n",
    "  no_of_employee=[]\n",
    "\n",
    "  for i in company:\n",
    "\n",
    "    try:\n",
    "       name.append(i.find('h2').text.strip())\n",
    "    except:\n",
    "       name.append(np.nan)\n",
    "\n",
    "    try:\n",
    "       rating.append(i.find('p',class_='rating').text.strip())\n",
    "    except:\n",
    "       rating.append(np.nan)\n",
    "   \n",
    "    try:\n",
    "\n",
    "      reviews.append(i.find('a' , class_='review-count').text.strip())\n",
    "    except:\n",
    "      reviews.append(np.nan)\n",
    "\n",
    "    try:\n",
    "\n",
    "      ctype.append(i.find_all('p',class_='infoEntity')[0].text.strip())\n",
    "    except:\n",
    "      ctype.append(np.nan)\n",
    "    try:\n",
    "\n",
    "      hq.append(i.find_all('p',class_='infoEntity')[1].text.strip())\n",
    "    except:\n",
    "      hq.append(np.nan)\n",
    "    \n",
    "    try:\n",
    "\n",
    "      how_old.append(i.find_all('p',class_='infoEntity')[2].text.strip())\n",
    "    except:\n",
    "      how_old.append(np.nan)\n",
    "    try:\n",
    "      no_of_employee.append(i.find_all('p',class_='infoEntity')[3].text.strip())\n",
    "    except:\n",
    "      no_of_employee.append(np.nan)\n",
    "    \n",
    "\n",
    "  df=pd.DataFrame({'name':name,\n",
    "    'rating':rating,\n",
    "    'reviews':reviews,\n",
    "    'company_type':ctype,\n",
    "    'Head_Quarters':hq,\n",
    "    'Company_Age':how_old,\n",
    "    'No_of_Employee':no_of_employee,\n",
    "    })\n",
    "  \n",
    "  final=final.append(df,ignore_index=True)"
   ]
  },
  {
   "cell_type": "code",
   "execution_count": null,
   "id": "f3f34fc7-0fab-4fc4-a2d9-78fb82da354c",
   "metadata": {},
   "outputs": [],
   "source": [
    "\n",
    "df.sample(5)"
   ]
  },
  {
   "cell_type": "code",
   "execution_count": null,
   "id": "72c27775-47eb-461b-8477-2f2095735a7f",
   "metadata": {},
   "outputs": [],
   "source": [
    "df.shape"
   ]
  },
  {
   "cell_type": "code",
   "execution_count": null,
   "id": "53c683cf-3cde-4bb5-ad0a-faabb0fbdbb2",
   "metadata": {},
   "outputs": [],
   "source": [
    "final.shape"
   ]
  }
 ],
 "metadata": {
  "kernelspec": {
   "display_name": "Python 3 (ipykernel)",
   "language": "python",
   "name": "python3"
  },
  "language_info": {
   "codemirror_mode": {
    "name": "ipython",
    "version": 3
   },
   "file_extension": ".py",
   "mimetype": "text/x-python",
   "name": "python",
   "nbconvert_exporter": "python",
   "pygments_lexer": "ipython3",
   "version": "3.13.2"
  }
 },
 "nbformat": 4,
 "nbformat_minor": 5
}
