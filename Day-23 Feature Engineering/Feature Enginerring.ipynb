{
 "cells": [
  {
   "cell_type": "markdown",
   "id": "8ad24cef-7dd3-4d9d-bdf0-b355e24baecb",
   "metadata": {},
   "source": [
    "## Feature Engineering"
   ]
  },
  {
   "cell_type": "code",
   "execution_count": null,
   "id": "4d46cf26-140d-43f4-a508-6e2ec709621b",
   "metadata": {},
   "outputs": [],
   "source": [
    "Feature Engineering - process of using domain knowledge to exctract feature from data. \n",
    "these features can be used to improve the performance of machine Learning\n",
    "\n"
   ]
  },
  {
   "cell_type": "code",
   "execution_count": null,
   "id": "1126b4c3-6123-46d0-b4c6-16289a10cc38",
   "metadata": {},
   "outputs": [],
   "source": [
    "## Feature Engineering\n",
    "\n",
    "    1. Feature Transformation (transform from one form to another form)\n",
    "\n",
    "    - missing value inputation (find missing or fill missing)\n",
    "    - hadling catogorical featue (one hot coding (catorgrical data->numerical data)\n",
    "    - outlier detection & removeal (box plot)\n",
    "    - feature scaling (bring in given range --> min max, standardization, normalization) \n",
    "\n",
    "\n",
    "                                  \n",
    "    2. Feature Construction (new feature manually created)\n",
    "        - sibling + parent child ---> merge (Num of family Number)\n",
    "        -  1      +     0        ---> 1\n",
    "        -  1      +     1        ---> 2\n",
    "\n",
    "        - technique --> grouping, feature spiliting\n",
    "\n",
    "                                  \n",
    "\n",
    "    3. Feature Selection (important only features)\n",
    "        - not imprtant features --> dropped\n",
    "\n",
    "\n",
    "                                  \n",
    "    4. Feature Extraction (from given feature, extracting new feature)\n",
    "\n",
    "        1. rooms  (feature 1)\n",
    "        2. washrooms (feature 2)\n",
    "\n",
    "        # we can't remove any one feature amonth both, becuasre both are important\n",
    "\n",
    "        --> extract featue (square feet area)\n",
    "        --> no use of previous feature + creating new feature\n",
    "\n",
    "        Technique --> PCA,LDA. PSME\n",
    "\n",
    "\n",
    "\n",
    "        "
   ]
  }
 ],
 "metadata": {
  "kernelspec": {
   "display_name": "Python 3 (ipykernel)",
   "language": "python",
   "name": "python3"
  },
  "language_info": {
   "codemirror_mode": {
    "name": "ipython",
    "version": 3
   },
   "file_extension": ".py",
   "mimetype": "text/x-python",
   "name": "python",
   "nbconvert_exporter": "python",
   "pygments_lexer": "ipython3",
   "version": "3.13.2"
  }
 },
 "nbformat": 4,
 "nbformat_minor": 5
}
