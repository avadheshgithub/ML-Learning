{
 "cells": [
  {
   "cell_type": "markdown",
   "id": "4a81510e-5e47-45f5-9c02-f1d99e9b525c",
   "metadata": {},
   "source": [
    "## Intro to Outlier"
   ]
  },
  {
   "cell_type": "code",
   "execution_count": null,
   "id": "0b8971c0-aa12-45c0-831b-788c454e16d0",
   "metadata": {},
   "outputs": [],
   "source": [
    "## Introduction -\n",
    "\n",
    "    - a value that is far away from the range\n",
    "    - it impact the whole algo performance"
   ]
  },
  {
   "cell_type": "code",
   "execution_count": null,
   "id": "fae1dff7-ca86-48aa-abb8-15e09d5d14b4",
   "metadata": {},
   "outputs": [],
   "source": [
    "## When it is Dangerous\n",
    "    - far far away from range\n",
    "\n",
    "\n",
    "when to keep outlier\n",
    "    - while anomoly detection algo\n",
    "    - "
   ]
  },
  {
   "cell_type": "code",
   "execution_count": null,
   "id": "56ec5bfb-334d-4ddf-b824-c962812bb7f4",
   "metadata": {},
   "outputs": [],
   "source": [
    " ## effect of outliers on ML algo (weight based algo)\n",
    "    - linear regression\n",
    "    - logistic regression\n",
    "    - deep learning\n",
    "\n",
    "doesnt effect\n",
    "    - tree based algo\n",
    "    - random forest and decistion tree"
   ]
  },
  {
   "cell_type": "code",
   "execution_count": null,
   "id": "af0fe9f2-bf04-4eb6-a907-36c680e28aee",
   "metadata": {},
   "outputs": [],
   "source": [
    " ## How to treat outliers\n",
    "    - trimming (remove from outlier)\n",
    "            - may be data less if outliers are much\n",
    "    - capping (define range for outliers)\n",
    "\n",
    "    - assume outlier as missing\n",
    "\n",
    "    - binning/ descretization"
   ]
  },
  {
   "cell_type": "code",
   "execution_count": null,
   "id": "d28fdfbd-931a-49b8-836a-83c00eb8d0e6",
   "metadata": {},
   "outputs": [],
   "source": [
    "\n",
    "## how to detect the ourliers\n",
    "\n",
    "    - Normal distribution (range  (+-mu+3sigma) \n",
    "\n",
    "    - Skewes distribution (box plot - IQR)\n",
    "            - min = q1 - 1.5 * IQR\n",
    "            - max = q3 + 1.5 * IQR\n",
    "\n",
    "    - percentile based approach\n",
    "            - max 97.5 perceentile\n",
    "            - min 2.5 percentile"
   ]
  },
  {
   "cell_type": "code",
   "execution_count": null,
   "id": "d51c1537-7497-483a-a3fb-a02897d0b522",
   "metadata": {},
   "outputs": [],
   "source": [
    "Famous technique , we will used\n",
    "\n",
    "    1. Z score  (Normalization)\n",
    "    2. IQR based boxplot\n",
    "    3. Percentile\n",
    "    4. Winsorization"
   ]
  }
 ],
 "metadata": {
  "kernelspec": {
   "display_name": "Python 3 (ipykernel)",
   "language": "python",
   "name": "python3"
  },
  "language_info": {
   "codemirror_mode": {
    "name": "ipython",
    "version": 3
   },
   "file_extension": ".py",
   "mimetype": "text/x-python",
   "name": "python",
   "nbconvert_exporter": "python",
   "pygments_lexer": "ipython3",
   "version": "3.13.2"
  }
 },
 "nbformat": 4,
 "nbformat_minor": 5
}
