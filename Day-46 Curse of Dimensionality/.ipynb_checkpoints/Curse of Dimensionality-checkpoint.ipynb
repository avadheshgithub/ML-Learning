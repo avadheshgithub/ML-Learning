{
 "cells": [
  {
   "cell_type": "markdown",
   "id": "d66b5253-381a-4bfd-abc8-4902c50e8fb6",
   "metadata": {},
   "source": [
    "## Curse of dimensionality"
   ]
  },
  {
   "cell_type": "code",
   "execution_count": null,
   "id": "c73e3e27-d3e3-460c-9301-b14d81021dab",
   "metadata": {},
   "outputs": [],
   "source": [
    "columns ---> feature/dimensions\n",
    "\n",
    "    - f(x) optimal number of feature---> best accuracy  (curse of dimensionality)\n",
    "\n",
    "    - if more than this features then accuracy will be decrease"
   ]
  },
  {
   "cell_type": "code",
   "execution_count": null,
   "id": "beea77c2-32ac-401f-b2f8-50dd9096d2d0",
   "metadata": {},
   "outputs": [],
   "source": [
    "1. if higher dimention --> sparsity\n",
    "    due to sparsity --> knn performence decrease\n",
    "                    --> computation so much\n",
    "\n",
    "not good for algorithms in terms of performence and computation\n",
    "\n",
    "solution\n",
    "\n",
    "    - dimentionality reduction\n",
    "\n",
    "        1. feature selection - (farward selectiopn , backward elimination)\n",
    "        2. feature extraction - (PCA, LDA (linear discrement analysis) , tshe)"
   ]
  },
  {
   "cell_type": "code",
   "execution_count": null,
   "id": "e2be5a91-31e7-4aeb-bd4d-68c906a701eb",
   "metadata": {},
   "outputs": [],
   "source": [
    "Next lec is about ---> PCA"
   ]
  }
 ],
 "metadata": {
  "kernelspec": {
   "display_name": "Python 3 (ipykernel)",
   "language": "python",
   "name": "python3"
  },
  "language_info": {
   "codemirror_mode": {
    "name": "ipython",
    "version": 3
   },
   "file_extension": ".py",
   "mimetype": "text/x-python",
   "name": "python",
   "nbconvert_exporter": "python",
   "pygments_lexer": "ipython3",
   "version": "3.13.2"
  }
 },
 "nbformat": 4,
 "nbformat_minor": 5
}
