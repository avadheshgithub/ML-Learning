{
 "cells": [
  {
   "cell_type": "markdown",
   "id": "0793d184-1b3f-47ec-93e3-f4fd8bc2ad29",
   "metadata": {},
   "source": [
    "## PCA (Principal component analysis)"
   ]
  },
  {
   "cell_type": "code",
   "execution_count": null,
   "id": "0bdedade-b110-47f9-917d-5c93251f7e04",
   "metadata": {},
   "outputs": [],
   "source": [
    "## Cusre of dimentionalty reduction technique\n",
    "        1. feature selection (set of columns on which varience is high--> choose than column)\n",
    "        2. feature exctraction\n",
    "\n",
    "\n",
    "PCA - forget exiesting feature && create new set of feature from exiesting feature. and \n",
    "        choose subset of features that was important."
   ]
  },
  {
   "cell_type": "code",
   "execution_count": null,
   "id": "2d8b5ecd-67a4-418e-a982-258d8ae7d427",
   "metadata": {},
   "outputs": [],
   "source": [
    "this is the technique of feature extraction\n",
    "- unsupervised machine learning problems\n",
    "- it is complex technique underlying mathmatecial aspect"
   ]
  },
  {
   "cell_type": "code",
   "execution_count": null,
   "id": "be5ce65a-bd93-4053-9845-a06ac1818b07",
   "metadata": {},
   "outputs": [],
   "source": [
    "Goal - curse of dimentionality reduction. (Reduction --> higher dimention to lower dimention) \n",
    "keep the origional data meaning\n",
    "\n",
    "## challenge\n",
    "    - which feature should remove or extcact\n",
    "    - \n",
    "## benefit\n",
    "    - faster execution of algo (feature reduction)\n",
    "    - visulization (10 feature to 2D or 3D)\n",
    "    - \n",
    "\n",
    "how it works\n",
    "\n",
    "    1. \n",
    "\n",
    "\n",
    "Example (Extraction)\n",
    "        room || washRooms  ---> 2D\n",
    "\n",
    "PCA    ---> size in square ----> 1D"
   ]
  },
  {
   "cell_type": "code",
   "execution_count": null,
   "id": "c995d0c6-b4bd-4bcb-81ff-f78f3e52e421",
   "metadata": {},
   "outputs": [],
   "source": [
    "## Geometric intution\n",
    "\n",
    "## Feature selection\n",
    "\n",
    "    if we dont have domen knowledge ---> which columns we should remove/choose\n",
    "    axes on which varience is high ---> pick that columns\n",
    "\n",
    "    Examples (remove -> grocery)\n",
    "\n",
    "    rooms || grocery shop || price\n",
    "\n",
    "\n",
    "## feature extraction\n",
    "\n",
    "    room || washRooms  ---> 2D\n",
    "\n",
    "    size of the flat  ----> 1D\n",
    "\n",
    "\n",
    "PCA1 && PCA2 && .......\n",
    "it will be equal to num of columns and choose that one on whcih data varience is high"
   ]
  },
  {
   "cell_type": "code",
   "execution_count": null,
   "id": "64f0dc09-c2ad-4d20-bc5f-d44d5efcc0a9",
   "metadata": {},
   "outputs": [],
   "source": [
    "## Why varience is important\n",
    "\n",
    "    sumation (xi - x_bar)^2 / n\n",
    "\n",
    "data spread directly propoation of varience"
   ]
  },
  {
   "cell_type": "code",
   "execution_count": null,
   "id": "416a962d-ddbe-4591-b8c3-f2ee51e0654e",
   "metadata": {},
   "outputs": [],
   "source": [
    "## Problem formulation\n",
    "\n"
   ]
  }
 ],
 "metadata": {
  "kernelspec": {
   "display_name": "Python 3 (ipykernel)",
   "language": "python",
   "name": "python3"
  },
  "language_info": {
   "codemirror_mode": {
    "name": "ipython",
    "version": 3
   },
   "file_extension": ".py",
   "mimetype": "text/x-python",
   "name": "python",
   "nbconvert_exporter": "python",
   "pygments_lexer": "ipython3",
   "version": "3.13.2"
  }
 },
 "nbformat": 4,
 "nbformat_minor": 5
}
