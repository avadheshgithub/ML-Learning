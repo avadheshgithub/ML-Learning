{
 "cells": [
  {
   "cell_type": "markdown",
   "id": "f68805f1-c36a-434b-b4a5-9db51753a562",
   "metadata": {},
   "source": [
    "## PCA - 02"
   ]
  },
  {
   "cell_type": "code",
   "execution_count": null,
   "id": "3171c690-40b3-433a-9259-551f2ca57fde",
   "metadata": {},
   "outputs": [],
   "source": [
    "## Why Data-Spread / varience is important for PCA\n",
    "\n",
    "    - to maintain the relation between features\n",
    "\n",
    "    sumation (xi - x_bar)^2 / n\n",
    "\n",
    "data spread (Standard deviation ) ---> directly propoation of varience"
   ]
  },
  {
   "cell_type": "code",
   "execution_count": null,
   "id": "d6289447-be7c-40ba-8f25-ffec59e9e74e",
   "metadata": {},
   "outputs": [],
   "source": [
    "varience - data spread on one axis (Either x or Y)\n",
    "         - on x axis diff && on Y axis diff\n",
    "         - dont tell about relatiion about x and Y\n",
    "\n",
    "## Covarience - \n",
    "        - tell the relation between the X and Y dimentions\n",
    "        - similar to corelation(-1 to 1) but\n",
    "        - it is not bounded as corelation\n"
   ]
  },
  {
   "cell_type": "code",
   "execution_count": null,
   "id": "a2aaf687-1893-41a1-b8df-1004b3224c40",
   "metadata": {},
   "outputs": [],
   "source": [
    "PCA Structure\n",
    "\n",
    "# Covarience MAtrix \n",
    "    - tell data spread on each axes\n",
    "    - Two pair of Axes relationship tells\n",
    "\n",
    "    [var(x1)     Co-var(x2,x1) ]\n",
    "    [ Co-var(x2,x1)    var(x2) ]\n",
    "\n",
    " - Square matrix it is\n",
    " - sysmetric metrix it is  [Co-var(x2,x1) ==  Co-var(x2,x1)]\n",
    " - diagonal ele - varience"
   ]
  },
  {
   "cell_type": "code",
   "execution_count": null,
   "id": "d829e8ad-4edd-4512-9ec8-4e6c00dbeab3",
   "metadata": {},
   "outputs": [],
   "source": [
    "## Eigen vector and Eigen VEctors\n",
    "\n",
    "- matrix - linear tranformation in which vectors magnitude and its direction \n",
    "              changes in cordination system\n",
    "\n",
    "- eigen vector - speical vector on which when we apply linear tranformation \n",
    "                 (direction wouldn't be chnaged) , magnitude change.\n",
    "\n",
    "                => A V = lamda V\n",
    "                      \n",
    "- eigen values - how much it is straching or spreading after linear tranformation. \n",
    "\n",
    "    \n"
   ]
  },
  {
   "cell_type": "code",
   "execution_count": null,
   "id": "290f3f9c-f4df-4d9e-9f6d-8a4ac0331dd7",
   "metadata": {},
   "outputs": [],
   "source": [
    "Steps PCA\n",
    "\n",
    "    1. mean centring (data mostly on center)\n",
    "    2. Find Covarience mAtrix.\n",
    "    3. Eigen values and eigen vectors \n",
    "    4. all PCA we got \n",
    "            - then (3D-->1D or 3D-->2D) dataPoints dot product with vector transpose\n",
    "        "
   ]
  }
 ],
 "metadata": {
  "kernelspec": {
   "display_name": "Python 3 (ipykernel)",
   "language": "python",
   "name": "python3"
  },
  "language_info": {
   "codemirror_mode": {
    "name": "ipython",
    "version": 3
   },
   "file_extension": ".py",
   "mimetype": "text/x-python",
   "name": "python",
   "nbconvert_exporter": "python",
   "pygments_lexer": "ipython3",
   "version": "3.13.2"
  }
 },
 "nbformat": 4,
 "nbformat_minor": 5
}
