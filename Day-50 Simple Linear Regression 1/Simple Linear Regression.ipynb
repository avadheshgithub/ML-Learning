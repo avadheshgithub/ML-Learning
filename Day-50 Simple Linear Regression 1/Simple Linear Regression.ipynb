{
 "cells": [
  {
   "cell_type": "markdown",
   "id": "18305f34-ec66-4a47-8986-b4b7543ddedc",
   "metadata": {},
   "source": [
    "## Simple Linear Regression\n"
   ]
  },
  {
   "cell_type": "code",
   "execution_count": null,
   "id": "cbffc306-5191-4e1d-b96f-601a41225dd1",
   "metadata": {},
   "outputs": [],
   "source": [
    "- Easy to Understand\n",
    "- supervised Machine Learning algo"
   ]
  },
  {
   "cell_type": "code",
   "execution_count": null,
   "id": "4789a8d5-2288-49bd-b66f-3429822e0fef",
   "metadata": {},
   "outputs": [],
   "source": [
    "Types\n",
    "\n",
    "    1. Simple Linear regression\n",
    "    2. multiple Linear regression\n",
    "    3. polynomila Linear Regression"
   ]
  },
  {
   "cell_type": "markdown",
   "id": "71fc23bb-6ce8-4c5b-944a-1c70c74005ee",
   "metadata": {},
   "source": [
    "## 1. Simple Lieanr Regrssion\n"
   ]
  },
  {
   "cell_type": "code",
   "execution_count": null,
   "id": "35d9f62f-911a-4b23-a798-8522fd84c764",
   "metadata": {},
   "outputs": [],
   "source": [
    "- 1 input column\n",
    "- 1 output column\n",
    "\n",
    "Ex - \n",
    "\n",
    "Cgpa || package\n",
    "7.1      3.5\n",
    "8.9      1.2\n",
    "8.9      4.2\n",
    "8.1      3.9"
   ]
  },
  {
   "cell_type": "code",
   "execution_count": null,
   "id": "591c30f5-372d-40ad-ad0e-f7af812f8a99",
   "metadata": {},
   "outputs": [],
   "source": [
    "Stpes to understand\n",
    "\n",
    "1. Plot that data\n",
    "\n",
    "    if linear data then (Y = mx+b)\n",
    "    if not then --> find a line from where error should be less (best fit line) on datapoints\n",
    "                    -- we  find perfect values of M and b"
   ]
  },
  {
   "cell_type": "markdown",
   "id": "7cf9218c-803e-47d4-994e-1828b53b7a27",
   "metadata": {},
   "source": [
    "##  2. Multiple Lieanr Regrssion\n"
   ]
  },
  {
   "cell_type": "code",
   "execution_count": null,
   "id": "c32deb3b-39cb-43fa-9da1-246ed99c9ab4",
   "metadata": {},
   "outputs": [],
   "source": [
    "- multiple inputs\n",
    "- 1 output column\n",
    "\n",
    "Ex -\n",
    "\n",
    "CGPA || Gender || 12Th %  ||  package"
   ]
  },
  {
   "cell_type": "markdown",
   "id": "7308abb6-6424-41ef-a44c-fe4ff8f45fe4",
   "metadata": {},
   "source": [
    "## 3. Polinomial Lieanr Regrssion\n"
   ]
  },
  {
   "cell_type": "code",
   "execution_count": null,
   "id": "66e8d8ff-653f-4def-8e4d-1681cf4a2a36",
   "metadata": {},
   "outputs": [],
   "source": [
    "- whenn data is not linear , then it is used"
   ]
  }
 ],
 "metadata": {
  "kernelspec": {
   "display_name": "Python 3 (ipykernel)",
   "language": "python",
   "name": "python3"
  },
  "language_info": {
   "codemirror_mode": {
    "name": "ipython",
    "version": 3
   },
   "file_extension": ".py",
   "mimetype": "text/x-python",
   "name": "python",
   "nbconvert_exporter": "python",
   "pygments_lexer": "ipython3",
   "version": "3.13.2"
  }
 },
 "nbformat": 4,
 "nbformat_minor": 5
}
