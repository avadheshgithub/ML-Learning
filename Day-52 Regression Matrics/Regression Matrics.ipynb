{
 "cells": [
  {
   "cell_type": "markdown",
   "id": "025a1d8a-1103-4560-a3f6-328025e4cc3d",
   "metadata": {},
   "source": [
    "## Regression Matrics"
   ]
  },
  {
   "cell_type": "code",
   "execution_count": null,
   "id": "6ffbc6d0-969e-4bc4-87b2-4fd5dea2ee15",
   "metadata": {},
   "outputs": [],
   "source": [
    "Regression MAtrics\n",
    "\n",
    "    1. MAE (mean abslute error)\n",
    "    2. MSE (mean squared error)\n",
    "    3. RMSE (root mean squared error)\n",
    "    4. R2 Score\n",
    "    5. Adjusted R2 Score"
   ]
  },
  {
   "cell_type": "markdown",
   "id": "a3247c71-67ff-4175-8471-9ccae9e19657",
   "metadata": {},
   "source": [
    "### 1. MAE"
   ]
  },
  {
   "cell_type": "code",
   "execution_count": null,
   "id": "62af7c5b-557f-4f90-ac5f-7055f9722a9f",
   "metadata": {},
   "outputs": [],
   "source": [
    "- mean abslute error\n",
    "- regression line we have given\n",
    "- it deifne actual distance from main line (dont conseder the sign)\n",
    "\n",
    "## MAE = sumation |yi-yi_hat| / n\n",
    "\n",
    "    - advantage\n",
    "        - Same unit (outlier)\n",
    "        - robust to outlier\n",
    "\n",
    "    - disadvantage\n",
    "        - moduls function grapah is not deferentiaable at 0\n",
    "        - mean square error need\n"
   ]
  },
  {
   "cell_type": "markdown",
   "id": "9d221f14-a3ce-4c48-978c-5a26b56c1ea4",
   "metadata": {},
   "source": [
    "### 2. MSE"
   ]
  },
  {
   "cell_type": "code",
   "execution_count": null,
   "id": "1654150d-45cb-4810-8e39-e9e6d2d18bc4",
   "metadata": {},
   "outputs": [],
   "source": [
    "- mean squared error ---> loss function\n",
    "- regression line we have given\n",
    "- it deifne  distance from main line \n",
    "\n",
    "## MAE = sumation (yi-yi_hat)^2 / n\n",
    "\n",
    "    - advantage\n",
    "        - used as loss function\n",
    "\n",
    "    - disadvantage\n",
    "        - not robust to outliers\n",
    "        - \n"
   ]
  },
  {
   "cell_type": "markdown",
   "id": "5653a486-1213-48ce-9747-fca073b5d82e",
   "metadata": {},
   "source": [
    "### 3. RMSE"
   ]
  },
  {
   "cell_type": "code",
   "execution_count": null,
   "id": "c9684fe6-1b00-4ee2-9c61-b7ff4f20e1c9",
   "metadata": {},
   "outputs": [],
   "source": [
    "- root mean square Eror\n",
    "\n",
    "## RMSE = root of MSE \n",
    "\n",
    "    - advnatge\n",
    "            - same unit (output)\n",
    "            - frequent used in deep learning\n",
    "            \n",
    "    - disadvantage\n",
    "            - not robust to outlier"
   ]
  },
  {
   "cell_type": "markdown",
   "id": "81e8362d-b912-4886-960c-dbf4ec63575e",
   "metadata": {},
   "source": [
    "### 4. R2 Score (coeffiecent of determination / goodnees of fit)"
   ]
  },
  {
   "cell_type": "code",
   "execution_count": null,
   "id": "298b1acc-cc34-42eb-8268-ad759a0b12a8",
   "metadata": {},
   "outputs": [],
   "source": [
    "- it tells how much model is performing your model (Good/bad)\n",
    "- it compare best case and worst case , how model is performing good\n",
    "- sum of squared error in regression line\n",
    "\n",
    "\n",
    "## R2 Score = 1 - [SSr/SSm]\n",
    "\n",
    "            = 1 - [sumation(yi-yi_hat)^2 / sumation(yi-yi_hat)^2]\n",
    "\n",
    "    SSr = sum of sqaured error in regression line\n",
    "    SSm = sum of sqaured error in main line\n",
    "\n",
    "## if r2score = 0\n",
    "    - meaning acutal line and regression line same \n",
    "    - (bad model)\n",
    "\n",
    "## if R2Score = 1\n",
    "    - good model\n",
    "\n",
    "## if R2 score --> negative\n",
    "    - very very bad model\n",
    "\n",
    "\n",
    "## if r2Score = 80\n",
    "    meaning - my features are continbuting 80% in result for prediction\n",
    "            - 20% might other factor also can effect our result\n",
    "\n",
    "\n",
    "## Diasadvantage\n",
    "\n",
    "    - as input columns increase --->r2 Score increase\n",
    "    so if irrelevant colums comes then also its R2 score increase\n",
    "    - need of Adjusted R2 score\n"
   ]
  },
  {
   "cell_type": "markdown",
   "id": "18f55cfe-9cb6-4a2d-949e-368cb67c3035",
   "metadata": {},
   "source": [
    "### 5. Adjusted R2 Score"
   ]
  },
  {
   "cell_type": "code",
   "execution_count": null,
   "id": "facd0c7f-2d27-46f8-8dec-575247ebc046",
   "metadata": {},
   "outputs": [],
   "source": [
    "to fulfill the weakness of R2 score\n",
    "\n",
    "\n",
    "## R2 adjusted = a- [(1-R2) (n-1) / (n-1-k)]\n",
    "\n",
    "        N = num of row\n",
    "        k = num of columns\n",
    "        R2 = calculated R2 Score\n",
    "\n",
    "    - if unnecesary clumn then n values incease --> Adjusted R2 is decrease\n",
    "    - if necessary columns then R2 score increase ---> adjusted R2 score also Increase"
   ]
  }
 ],
 "metadata": {
  "kernelspec": {
   "display_name": "Python 3 (ipykernel)",
   "language": "python",
   "name": "python3"
  },
  "language_info": {
   "codemirror_mode": {
    "name": "ipython",
    "version": 3
   },
   "file_extension": ".py",
   "mimetype": "text/x-python",
   "name": "python",
   "nbconvert_exporter": "python",
   "pygments_lexer": "ipython3",
   "version": "3.13.2"
  }
 },
 "nbformat": 4,
 "nbformat_minor": 5
}
